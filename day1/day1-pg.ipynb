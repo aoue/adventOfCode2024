{
 "cells": [
  {
   "cell_type": "markdown",
   "metadata": {},
   "source": [
    "## Day 1\n",
    "\n",
    "### Part 1\n",
    "https://adventofcode.com/2024/day/1\n",
    "\n",
    "\n",
    "So what is going on here?\n",
    "Return the sum of the differences between the sorted element pairs of both lists.\n",
    "\n",
    "* We are given two lists, testList1 and testList2\n",
    "* We want to arrange the lists so they are both sorted\n",
    "* We want to take the absolute value of the difference of each pair of elements\n",
    "* And finally we want to return the sum of each difference"
   ]
  },
  {
   "cell_type": "code",
   "execution_count": 1,
   "metadata": {
    "dotnet_interactive": {
     "language": "csharp"
    },
    "polyglot_notebook": {
     "kernelName": "csharp"
    },
    "vscode": {
     "languageId": "polyglot-notebook"
    }
   },
   "outputs": [],
   "source": [
    "// The function we will be using. Does what it says in the markdown above^^\n",
    "int Calculate_Sum_of_Distances(List<int> L1, List<int> L2){\n",
    "    L1.Sort();\n",
    "    L2.Sort();\n",
    "\n",
    "    int retSum = 0;\n",
    "    for (int i = 0; i < L1.Count; i++){\n",
    "        int abs_dif = Math.Abs(L1[i] - L2[i]);\n",
    "        retSum += abs_dif;\n",
    "    }\n",
    "    return retSum;\n",
    "}"
   ]
  },
  {
   "cell_type": "code",
   "execution_count": 2,
   "metadata": {
    "dotnet_interactive": {
     "language": "csharp"
    },
    "polyglot_notebook": {
     "kernelName": "csharp"
    },
    "vscode": {
     "languageId": "polyglot-notebook"
    }
   },
   "outputs": [
    {
     "name": "stdout",
     "output_type": "stream",
     "text": [
      "11\r\n"
     ]
    }
   ],
   "source": [
    "// The answer for the test lists should be 11\n",
    "List<int> testList1 = new List<int>{3,4,2,1,3,3};\n",
    "List<int> testList2 = new List<int>{4,3,5,3,9,3};\n",
    "int result = Calculate_Sum_of_Distances(testList1, testList2);\n",
    "Console.WriteLine(result);"
   ]
  },
  {
   "cell_type": "code",
   "execution_count": 3,
   "metadata": {
    "dotnet_interactive": {
     "language": "csharp"
    },
    "polyglot_notebook": {
     "kernelName": "csharp"
    },
    "vscode": {
     "languageId": "polyglot-notebook"
    }
   },
   "outputs": [
    {
     "name": "stdout",
     "output_type": "stream",
     "text": [
      "2031679\r\n"
     ]
    }
   ],
   "source": [
    "// Read in input from day1-input.txt\n",
    "using System.IO;\n",
    "List<int> realList1 = new List<int>();\n",
    "List<int> realList2 = new List<int>();\n",
    "foreach (string line in File.ReadLines(\"day1-input.txt\")){\n",
    "    int p1 = Convert.ToInt32(line.Substring(0, 5));\n",
    "    int p2 = Convert.ToInt32(line.Substring(8, 5));\n",
    "\n",
    "    realList1.Add(p1);\n",
    "    realList2.Add(p2);\n",
    "}\n",
    "int realResult = Calculate_Sum_of_Distances(realList1, realList2);\n",
    "Console.WriteLine((realResult));\n",
    "// ans = 2031679"
   ]
  },
  {
   "cell_type": "markdown",
   "metadata": {},
   "source": [
    "### Part 2\n",
    "\n",
    "We need to calculate the total similarity score. How?\n",
    "* By adding up each number in the left list after multiplying it by the number of times that number appears in the right list\n",
    "\n",
    "In other words\n",
    "* Count the number of times every number in the right list appears\n",
    "* Iterate through the left list and calculate the sum of each number times its occurrences"
   ]
  },
  {
   "cell_type": "code",
   "execution_count": 8,
   "metadata": {
    "dotnet_interactive": {
     "language": "csharp"
    },
    "polyglot_notebook": {
     "kernelName": "csharp"
    },
    "vscode": {
     "languageId": "polyglot-notebook"
    }
   },
   "outputs": [
    {
     "name": "stdout",
     "output_type": "stream",
     "text": [
      "System.Collections.Generic.Dictionary`2[System.Int32,System.Int32]\r\n"
     ]
    }
   ],
   "source": [
    "// Build occurrences dict\n",
    "Dictionary<int, int> BuildOccDict(List<int> L){\n",
    "    Dictionary<int, int> rightOccDict = new Dictionary<int, int>();\n",
    "    for (int i = 0; i < L.Count; i++){\n",
    "        int keyValue = L[i];\n",
    "        if (rightOccDict.ContainsKey(keyValue)){\n",
    "            rightOccDict[keyValue] += 1;\n",
    "        }\n",
    "        else{\n",
    "            rightOccDict[keyValue] = 1;\n",
    "        }\n",
    "    }\n",
    "    return rightOccDict;\n",
    "}\n",
    "List<int> testList2 = new List<int>{4,3,5,3,9,3};\n",
    "Dictionary<int, int> result = BuildOccDict(testList2);\n",
    "Console.WriteLine(result);"
   ]
  },
  {
   "cell_type": "code",
   "execution_count": 11,
   "metadata": {
    "dotnet_interactive": {
     "language": "csharp"
    },
    "polyglot_notebook": {
     "kernelName": "csharp"
    },
    "vscode": {
     "languageId": "polyglot-notebook"
    }
   },
   "outputs": [],
   "source": [
    "int CalculateTotalSimilarityScore(List<int> L1, List<int> L2){\n",
    "    L2.Sort();\n",
    "\n",
    "    Dictionary<int, int> L2_OccDict = BuildOccDict(L2);\n",
    "\n",
    "    int retSum = 0;\n",
    "    for (int i = 0; i < L1.Count; i++){\n",
    "        int key = L1[i];\n",
    "        if (L2_OccDict.ContainsKey(key)){\n",
    "            int abs_dif = L1[i] * L2_OccDict[key];\n",
    "            retSum += abs_dif;\n",
    "        }\n",
    "    }\n",
    "    return retSum;\n",
    "}\n"
   ]
  },
  {
   "cell_type": "code",
   "execution_count": 13,
   "metadata": {
    "dotnet_interactive": {
     "language": "csharp"
    },
    "polyglot_notebook": {
     "kernelName": "csharp"
    },
    "vscode": {
     "languageId": "polyglot-notebook"
    }
   },
   "outputs": [
    {
     "name": "stdout",
     "output_type": "stream",
     "text": [
      "31\r\n"
     ]
    }
   ],
   "source": [
    "List<int> testList1 = new List<int>{3,4,2,1,3,3};\n",
    "List<int> testList2 = new List<int>{4,3,5,3,9,3};\n",
    "int testResult = CalculateTotalSimilarityScore(testList1, testList2);\n",
    "Console.WriteLine((testResult));"
   ]
  },
  {
   "cell_type": "code",
   "execution_count": 14,
   "metadata": {
    "dotnet_interactive": {
     "language": "csharp"
    },
    "polyglot_notebook": {
     "kernelName": "csharp"
    },
    "vscode": {
     "languageId": "polyglot-notebook"
    }
   },
   "outputs": [
    {
     "name": "stdout",
     "output_type": "stream",
     "text": [
      "19678534\r\n"
     ]
    }
   ],
   "source": [
    "using System.IO;\n",
    "List<int> realList1 = new List<int>();\n",
    "List<int> realList2 = new List<int>();\n",
    "\n",
    "foreach (string line in File.ReadLines(\"day1-input.txt\")){\n",
    "    int p1 = Convert.ToInt32(line.Substring(0, 5));\n",
    "    int p2 = Convert.ToInt32(line.Substring(8, 5));\n",
    "\n",
    "    realList1.Add(p1);\n",
    "    realList2.Add(p2);\n",
    "}\n",
    "int realResult = CalculateTotalSimilarityScore(realList1, realList2);\n",
    "Console.WriteLine((realResult));\n",
    "// ans = 19678534"
   ]
  }
 ],
 "metadata": {
  "kernelspec": {
   "display_name": ".NET (C#)",
   "language": "C#",
   "name": ".net-csharp"
  },
  "language_info": {
   "name": "python"
  },
  "polyglot_notebook": {
   "kernelInfo": {
    "defaultKernelName": "csharp",
    "items": [
     {
      "aliases": [],
      "name": "csharp"
     }
    ]
   }
  }
 },
 "nbformat": 4,
 "nbformat_minor": 2
}
