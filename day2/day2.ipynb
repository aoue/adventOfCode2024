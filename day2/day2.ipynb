{
 "cells": [
  {
   "cell_type": "markdown",
   "metadata": {},
   "source": [
    "## Day 2\n",
    "\n",
    "### Part 1\n",
    "https://adventofcode.com/2024/day/2\n",
    "\n",
    "\n",
    "So what is going on here?\n",
    "- we have many reports, one report per line\n",
    "- each report is a single line, made of of a list of numbers called levels\n",
    "\n",
    "A level is safe IFF\n",
    "- the levels are sorted either big to small or small to big\n",
    "- the absolute value of the difference of two successive levels is between 1 and 3\n",
    "\n",
    "Return the number of reports that are safe."
   ]
  },
  {
   "cell_type": "markdown",
   "metadata": {},
   "source": [
    "### Approach\n",
    "* break the input file down into reports (i.e. lines)\n",
    "* for each report:\n",
    "    * get the first and second elements and establish sorted order\n",
    "    * iterate through the list, checking that the sort order is never broken\n",
    "    * also check that the abs val of difference between adjs is in bounds\n"
   ]
  },
  {
   "cell_type": "code",
   "execution_count": 1,
   "metadata": {
    "dotnet_interactive": {
     "language": "csharp"
    },
    "polyglot_notebook": {
     "kernelName": "csharp"
    },
    "vscode": {
     "languageId": "polyglot-notebook"
    }
   },
   "outputs": [],
   "source": [
    "// Checks if a report is safe (returns true) or unsafe (returns false)\n",
    "bool Validate_Report(int[] report){\n",
    "    if (report.Length == 1) return true;\n",
    "\n",
    "    bool ascending = true;\n",
    "    if (report[0] > report[1]) ascending = false;\n",
    "\n",
    "    for (int i = 1; i < report.Length; i++){\n",
    "        int dif = report[i] - report[i-1];\n",
    "        // Console.WriteLine(dif);\n",
    "\n",
    "        // when ascending, [i] > [i-1], i.e. dif must be positive\n",
    "        if (ascending && dif > 0 && dif < 4) continue;\n",
    "\n",
    "        // when descending, [i] < [i-1], i.e. dif must be negative\n",
    "        if (!ascending && dif < 0 && dif > -4) continue;\n",
    "\n",
    "        return false;\n",
    "    }\n",
    "    return true;\n",
    "}"
   ]
  },
  {
   "cell_type": "code",
   "execution_count": 2,
   "metadata": {
    "dotnet_interactive": {
     "language": "csharp"
    },
    "polyglot_notebook": {
     "kernelName": "csharp"
    },
    "vscode": {
     "languageId": "polyglot-notebook"
    }
   },
   "outputs": [
    {
     "name": "stdout",
     "output_type": "stream",
     "text": [
      "True\r\n"
     ]
    }
   ],
   "source": [
    "int[] testList1 = new int[]{7,6,4,2,1};\n",
    "bool result1 = Validate_Report(testList1);\n",
    "Console.WriteLine(result1);"
   ]
  },
  {
   "cell_type": "code",
   "execution_count": 3,
   "metadata": {
    "dotnet_interactive": {
     "language": "csharp"
    },
    "polyglot_notebook": {
     "kernelName": "csharp"
    },
    "vscode": {
     "languageId": "polyglot-notebook"
    }
   },
   "outputs": [
    {
     "name": "stdout",
     "output_type": "stream",
     "text": [
      "False\r\n"
     ]
    }
   ],
   "source": [
    "int[] testList2 = new int[]{1,2,7,8,9};\n",
    "bool result2 = Validate_Report(testList2);\n",
    "Console.WriteLine(result2);"
   ]
  },
  {
   "cell_type": "markdown",
   "metadata": {},
   "source": [
    "## File Reading\n",
    "\n",
    "* Read in the file one line at a time. \n",
    "* Break that line into a list of numbers, separated on whitespace."
   ]
  },
  {
   "cell_type": "code",
   "execution_count": 4,
   "metadata": {
    "dotnet_interactive": {
     "language": "csharp"
    },
    "polyglot_notebook": {
     "kernelName": "csharp"
    },
    "vscode": {
     "languageId": "polyglot-notebook"
    }
   },
   "outputs": [
    {
     "name": "stdout",
     "output_type": "stream",
     "text": [
      "549\r\n"
     ]
    }
   ],
   "source": [
    "using System.IO;\n",
    "int safeSum = 0;\n",
    "foreach (string line in File.ReadLines(\"day2-input.txt\")){\n",
    "    // int p1 = Convert.ToInt32(line.Substring(0, 5));\n",
    "    // int p2 = Convert.ToInt32(line.Substring(8, 5));\n",
    "    \n",
    "    // split line to report.\n",
    "    string[] reportStrs = line.Split(' ');\n",
    "    // Console.WriteLine(reportStrs);\n",
    "\n",
    "    // convert strings to ints.\n",
    "    int[] reportInts = Array.ConvertAll(reportStrs, int.Parse);\n",
    "    // Console.WriteLine(reportInts);\n",
    "    \n",
    "    // Check safety and increase safeSum.\n",
    "    if (Validate_Report(reportInts)) safeSum += 1;\n",
    "    \n",
    "}\n",
    "\n",
    "Console.WriteLine((safeSum));"
   ]
  },
  {
   "cell_type": "markdown",
   "metadata": {},
   "source": [
    "## Part 2\n",
    "\n",
    "We change what qualifies as a bad report: We can now tolerate a single bad level.\n",
    "\n",
    "What this means:\n",
    "* any report where removing a single level would make it safe also counts as safe.\n",
    "\n",
    "How to handle the whole dampening thing:\n",
    "* use a 0 and 1 index tracker\n",
    "* when working normally, advance both\n",
    "* when encountering the first failure, increment 1 tracker but not 0.\n",
    "* when encountering the second failure, return false as before.\n",
    "\n",
    "Current issue:\n",
    "* getting the wrong number. I think it's because i always try to skip the deep number when i find an issue, but really i could also skip the deep number too.\n",
    "* try a list method, i guess. Use recursion with both cut lists and return an OR.\n",
    "\n",
    "Still not working\n",
    "* next thing would be to try it exhaustively, removing every value.\n",
    "* O(n^2)"
   ]
  },
  {
   "cell_type": "code",
   "execution_count": 22,
   "metadata": {
    "dotnet_interactive": {
     "language": "csharp"
    },
    "polyglot_notebook": {
     "kernelName": "csharp"
    },
    "vscode": {
     "languageId": "polyglot-notebook"
    }
   },
   "outputs": [],
   "source": [
    "// Checks if a report is safe (returns true) or unsafe (returns false)\n",
    "// Has dampening, which means that any report where removing a single level would make it safe also counts as safe.\n",
    "bool Validate_Report_WithDampening(List<int> report, bool canTolerate){\n",
    "    if (report.Count == 1) return true;\n",
    "\n",
    "    bool ascending = true;\n",
    "    if (report[0] > report[1]) ascending = false;\n",
    "\n",
    "    int deep = 1;\n",
    "    int shallow = 0;\n",
    "    while (deep < report.Count){\n",
    "        int dif = report[deep] - report[shallow];\n",
    "        // Console.WriteLine(report[shallow]);\n",
    "        // Console.WriteLine(report[deep]);\n",
    "        // Console.WriteLine(dif);\n",
    "\n",
    "        // when ascending, [i] > [i-1], i.e. dif must be positive\n",
    "        // when descending, [i] < [i-1], i.e. dif must be negative\n",
    "        if ((ascending && dif > 0 && dif < 4) || (!ascending && dif < 0 && dif > -4)){\n",
    "            shallow += 1;\n",
    "            deep += 1;\n",
    "        }\n",
    "        else if (canTolerate){\n",
    "            canTolerate = false;\n",
    "            // try both subsections of the list and return their OR.\n",
    "            List<int> cutShallow = new List<int>(report);\n",
    "            List<int> cutDeep = new List<int>(report);\n",
    "\n",
    "            if (deep + 1 < report.Count) cutShallow.RemoveAt(deep + 1);\n",
    "            cutDeep.RemoveAt(shallow);\n",
    "\n",
    "            return Validate_Report_WithDampening(cutShallow, canTolerate) \n",
    "                || Validate_Report_WithDampening(cutDeep, canTolerate);\n",
    "\n",
    "        }\n",
    "        else return false;\n",
    "    }\n",
    "    return true;\n",
    "}"
   ]
  },
  {
   "cell_type": "code",
   "execution_count": 20,
   "metadata": {
    "dotnet_interactive": {
     "language": "csharp"
    },
    "polyglot_notebook": {
     "kernelName": "csharp"
    },
    "vscode": {
     "languageId": "polyglot-notebook"
    }
   },
   "outputs": [
    {
     "name": "stdout",
     "output_type": "stream",
     "text": [
      "True\n",
      "False\n",
      "False\n",
      "True\n",
      "True\n",
      "True\n"
     ]
    }
   ],
   "source": [
    "List<int> testList1 = new List<int>(){7,6,4,2,1};\n",
    "List<int> testList2 = new List<int>(){1,2,7,8,9};\n",
    "List<int> testList3 = new List<int>(){9,7,6,2,1};\n",
    "List<int> testList4 = new List<int>(){1,3,2,4,5};\n",
    "List<int> testList5 = new List<int>(){8,6,4,4,1};\n",
    "List<int> testList6 = new List<int>(){1,3,6,7,9};\n",
    "\n",
    "bool result1 = Validate_Report_WithDampening(testList1, true);\n",
    "bool result2 = Validate_Report_WithDampening(testList2, true);\n",
    "bool result3 = Validate_Report_WithDampening(testList3, true);\n",
    "bool result4 = Validate_Report_WithDampening(testList4, true);\n",
    "bool result5 = Validate_Report_WithDampening(testList5, true);\n",
    "bool result6 = Validate_Report_WithDampening(testList6, true);\n",
    "\n",
    "Console.WriteLine(result1);\n",
    "Console.WriteLine(result2);\n",
    "Console.WriteLine(result3);\n",
    "Console.WriteLine(result4);\n",
    "Console.WriteLine(result5);\n",
    "Console.WriteLine(result6);"
   ]
  },
  {
   "cell_type": "code",
   "execution_count": 21,
   "metadata": {
    "dotnet_interactive": {
     "language": "csharp"
    },
    "polyglot_notebook": {
     "kernelName": "csharp"
    },
    "vscode": {
     "languageId": "polyglot-notebook"
    }
   },
   "outputs": [
    {
     "name": "stdout",
     "output_type": "stream",
     "text": [
      "587\r\n"
     ]
    }
   ],
   "source": [
    "using System.IO;\n",
    "int safeSum = 0;\n",
    "foreach (string line in File.ReadLines(\"day2-input.txt\")){\n",
    "    // int p1 = Convert.ToInt32(line.Substring(0, 5));\n",
    "    // int p2 = Convert.ToInt32(line.Substring(8, 5));\n",
    "    \n",
    "    // split line to report.\n",
    "    string[] reportStrs = line.Split(' ');\n",
    "    // Console.WriteLine(reportStrs);\n",
    "\n",
    "    // convert strings to ints.\n",
    "    int[] reportInts = Array.ConvertAll(reportStrs, int.Parse);\n",
    "    List<int> reportIntsList = reportInts.ToList();\n",
    "    // Console.WriteLine(reportInts);\n",
    "    // Console.WriteLine(reportIntsList);\n",
    "    \n",
    "    // Check safety and increase safeSum.\n",
    "    if (Validate_Report_WithDampening(reportIntsList, true)) safeSum += 1;\n",
    "}\n",
    "\n",
    "Console.WriteLine((safeSum));"
   ]
  }
 ],
 "metadata": {
  "kernelspec": {
   "display_name": ".NET (C#)",
   "language": "C#",
   "name": ".net-csharp"
  },
  "language_info": {
   "name": "python"
  },
  "polyglot_notebook": {
   "kernelInfo": {
    "defaultKernelName": "csharp",
    "items": [
     {
      "aliases": [],
      "name": "csharp"
     }
    ]
   }
  }
 },
 "nbformat": 4,
 "nbformat_minor": 2
}
