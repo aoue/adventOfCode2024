{
 "cells": [
  {
   "cell_type": "markdown",
   "metadata": {},
   "source": [
    "## Day 4\n",
    "\n",
    "### Part 1\n",
    "https://adventofcode.com/2024/day/4\n",
    "\n",
    "\n",
    "So what is going on here?\n",
    "- count the number of times the word 'XMAS' appears in the input"
   ]
  },
  {
   "cell_type": "markdown",
   "metadata": {},
   "source": [
    "### Approach\n",
    "- read in all the lines into a list\n",
    "- find every single 'X' in the input and record its location\n",
    "- create a function that, given the coordinates of some 'X', checks for all possible 'XMAS' occurrences, in all directions.\n",
    "    - left and right\n",
    "    - above and below\n",
    "    - four diagonals\n"
   ]
  },
  {
   "cell_type": "code",
   "execution_count": 13,
   "metadata": {
    "dotnet_interactive": {
     "language": "csharp"
    },
    "polyglot_notebook": {
     "kernelName": "csharp"
    },
    "vscode": {
     "languageId": "polyglot-notebook"
    }
   },
   "outputs": [],
   "source": [
    "int count_XMAS(List<string> ws){\n",
    "    // iterate through the wordSearch. Every time you find an X, inc result by check_X\n",
    "    int ret = 0;\n",
    "    for (int row = 0; row < ws.Count; row++){\n",
    "        for (int col = 0; col < ws[row].Length; col++){\n",
    "            if (ws[row][col] == 'X') { ret += check_X(ws, row, col); }\n",
    "        }\n",
    "    }\n",
    "    \n",
    "    return ret;\n",
    "}\n",
    "\n",
    "int check_X(List<string> ws, int row, int col){\n",
    "    // given the column and row relating to an X,\n",
    "    // check for all 8 possible occurrences of XMAS that contain it.\n",
    "\n",
    "    string word = \"XMAS\"; // check the word using modulus i guess\n",
    "    int word_pt = 0;\n",
    "    int ret = 0;\n",
    "\n",
    "    // left: check X...MAS\n",
    "    word_pt = 0;\n",
    "    for (int i = col; i < ws[row].Length; i++){\n",
    "        if ( word_pt > 3 || ws[row][i] != word[word_pt]) { break; }\n",
    "        else { word_pt += 1; }\n",
    "    }\n",
    "    if (word_pt > 3) {ret += 1;}\n",
    "    \n",
    "    return ret;\n",
    "\n",
    "}"
   ]
  },
  {
   "cell_type": "code",
   "execution_count": 14,
   "metadata": {
    "dotnet_interactive": {
     "language": "csharp"
    },
    "polyglot_notebook": {
     "kernelName": "csharp"
    },
    "vscode": {
     "languageId": "polyglot-notebook"
    }
   },
   "outputs": [
    {
     "name": "stdout",
     "output_type": "stream",
     "text": [
      "..X...\n",
      ".SAMX.\n",
      ".AXMAS\n",
      "XMAS.S\n",
      ".X....\n",
      "2\n"
     ]
    }
   ],
   "source": [
    "// Reads in input into a list\n",
    "// format: list[row][col]\n",
    "using System.IO;\n",
    "List<string> wordSearch = new List<string>();\n",
    "\n",
    "foreach (string line in File.ReadLines(\"day4-ex-input.txt\")){\n",
    "    // for each line, simply add to the wordSearch\n",
    "    wordSearch.Add(line);\n",
    "}\n",
    "\n",
    "foreach (string s in wordSearch){\n",
    "    Console.WriteLine(s);\n",
    "}\n",
    "\n",
    "int r = count_XMAS(wordSearch);\n",
    "Console.WriteLine(r);"
   ]
  },
  {
   "cell_type": "markdown",
   "metadata": {},
   "source": [
    "## Part 2\n",
    "\n",
    "We change what qualifies as a bad report: We can now tolerate a single bad level.\n",
    "\n",
    "What this means:\n",
    "* any report where removing a single level would make it safe also counts as safe.\n",
    "\n",
    "How to handle the whole dampening thing:\n",
    "* use a 0 and 1 index tracker\n",
    "* when working normally, advance both\n",
    "* when encountering the first failure, increment 1 tracker but not 0.\n",
    "* when encountering the second failure, return false as before.\n",
    "\n",
    "Current issue:\n",
    "* getting the wrong number. I think it's because i always try to skip the deep number when i find an issue, but really i could also skip the deep number too.\n",
    "* try a list method, i guess. Use recursion with both cut lists and return an OR.\n",
    "\n",
    "Still not working\n",
    "* next thing would be to try it exhaustively, removing every value.\n",
    "* O(n^2)"
   ]
  },
  {
   "cell_type": "code",
   "execution_count": 22,
   "metadata": {
    "dotnet_interactive": {
     "language": "csharp"
    },
    "polyglot_notebook": {
     "kernelName": "csharp"
    },
    "vscode": {
     "languageId": "polyglot-notebook"
    }
   },
   "outputs": [],
   "source": [
    "// Checks if a report is safe (returns true) or unsafe (returns false)\n",
    "// Has dampening, which means that any report where removing a single level would make it safe also counts as safe.\n",
    "bool Validate_Report_WithDampening(List<int> report, bool canTolerate){\n",
    "    if (report.Count == 1) return true;\n",
    "\n",
    "    bool ascending = true;\n",
    "    if (report[0] > report[1]) ascending = false;\n",
    "\n",
    "    int deep = 1;\n",
    "    int shallow = 0;\n",
    "    while (deep < report.Count){\n",
    "        int dif = report[deep] - report[shallow];\n",
    "        // Console.WriteLine(report[shallow]);\n",
    "        // Console.WriteLine(report[deep]);\n",
    "        // Console.WriteLine(dif);\n",
    "\n",
    "        // when ascending, [i] > [i-1], i.e. dif must be positive\n",
    "        // when descending, [i] < [i-1], i.e. dif must be negative\n",
    "        if ((ascending && dif > 0 && dif < 4) || (!ascending && dif < 0 && dif > -4)){\n",
    "            shallow += 1;\n",
    "            deep += 1;\n",
    "        }\n",
    "        else if (canTolerate){\n",
    "            canTolerate = false;\n",
    "            // try both subsections of the list and return their OR.\n",
    "            List<int> cutShallow = new List<int>(report);\n",
    "            List<int> cutDeep = new List<int>(report);\n",
    "\n",
    "            if (deep + 1 < report.Count) cutShallow.RemoveAt(deep + 1);\n",
    "            cutDeep.RemoveAt(shallow);\n",
    "\n",
    "            return Validate_Report_WithDampening(cutShallow, canTolerate) \n",
    "                || Validate_Report_WithDampening(cutDeep, canTolerate);\n",
    "\n",
    "        }\n",
    "        else return false;\n",
    "    }\n",
    "    return true;\n",
    "}"
   ]
  },
  {
   "cell_type": "code",
   "execution_count": 20,
   "metadata": {
    "dotnet_interactive": {
     "language": "csharp"
    },
    "polyglot_notebook": {
     "kernelName": "csharp"
    },
    "vscode": {
     "languageId": "polyglot-notebook"
    }
   },
   "outputs": [
    {
     "name": "stdout",
     "output_type": "stream",
     "text": [
      "True\n",
      "False\n",
      "False\n",
      "True\n",
      "True\n",
      "True\n"
     ]
    }
   ],
   "source": [
    "List<int> testList1 = new List<int>(){7,6,4,2,1};\n",
    "List<int> testList2 = new List<int>(){1,2,7,8,9};\n",
    "List<int> testList3 = new List<int>(){9,7,6,2,1};\n",
    "List<int> testList4 = new List<int>(){1,3,2,4,5};\n",
    "List<int> testList5 = new List<int>(){8,6,4,4,1};\n",
    "List<int> testList6 = new List<int>(){1,3,6,7,9};\n",
    "\n",
    "bool result1 = Validate_Report_WithDampening(testList1, true);\n",
    "bool result2 = Validate_Report_WithDampening(testList2, true);\n",
    "bool result3 = Validate_Report_WithDampening(testList3, true);\n",
    "bool result4 = Validate_Report_WithDampening(testList4, true);\n",
    "bool result5 = Validate_Report_WithDampening(testList5, true);\n",
    "bool result6 = Validate_Report_WithDampening(testList6, true);\n",
    "\n",
    "Console.WriteLine(result1);\n",
    "Console.WriteLine(result2);\n",
    "Console.WriteLine(result3);\n",
    "Console.WriteLine(result4);\n",
    "Console.WriteLine(result5);\n",
    "Console.WriteLine(result6);"
   ]
  },
  {
   "cell_type": "code",
   "execution_count": 21,
   "metadata": {
    "dotnet_interactive": {
     "language": "csharp"
    },
    "polyglot_notebook": {
     "kernelName": "csharp"
    },
    "vscode": {
     "languageId": "polyglot-notebook"
    }
   },
   "outputs": [
    {
     "name": "stdout",
     "output_type": "stream",
     "text": [
      "587\r\n"
     ]
    }
   ],
   "source": [
    "using System.IO;\n",
    "int safeSum = 0;\n",
    "foreach (string line in File.ReadLines(\"day2-input.txt\")){\n",
    "    // int p1 = Convert.ToInt32(line.Substring(0, 5));\n",
    "    // int p2 = Convert.ToInt32(line.Substring(8, 5));\n",
    "    \n",
    "    // split line to report.\n",
    "    string[] reportStrs = line.Split(' ');\n",
    "    // Console.WriteLine(reportStrs);\n",
    "\n",
    "    // convert strings to ints.\n",
    "    int[] reportInts = Array.ConvertAll(reportStrs, int.Parse);\n",
    "    List<int> reportIntsList = reportInts.ToList();\n",
    "    // Console.WriteLine(reportInts);\n",
    "    // Console.WriteLine(reportIntsList);\n",
    "    \n",
    "    // Check safety and increase safeSum.\n",
    "    if (Validate_Report_WithDampening(reportIntsList, true)) safeSum += 1;\n",
    "}\n",
    "\n",
    "Console.WriteLine((safeSum));"
   ]
  }
 ],
 "metadata": {
  "kernelspec": {
   "display_name": ".NET (C#)",
   "language": "C#",
   "name": ".net-csharp"
  },
  "language_info": {
   "name": "python"
  },
  "polyglot_notebook": {
   "kernelInfo": {
    "defaultKernelName": "csharp",
    "items": [
     {
      "aliases": [],
      "name": "csharp"
     }
    ]
   }
  }
 },
 "nbformat": 4,
 "nbformat_minor": 2
}
