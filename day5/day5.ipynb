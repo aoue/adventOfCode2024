{
 "cells": [
  {
   "cell_type": "markdown",
   "metadata": {},
   "source": [
    "## Day 4\n",
    "\n",
    "### Part 1\n",
    "https://adventofcode.com/2024/day/5\n",
    "\n",
    "\n",
    "So what is going on here?\n",
    "- new pages must be printed in a very specific order\n",
    "- the notation X|Y means that if both page X and page Y are to be produced, X must be printed before Y\n",
    "- we are given the rules (a series of X|Y) and the pages to produce\n",
    "- for every series of pages given to be produced, determine whether it is correct or not\n",
    "- finally, return the middle page number of every correct series of pages"
   ]
  },
  {
   "cell_type": "markdown",
   "metadata": {},
   "source": [
    "### Approach\n",
    "so we need an efficient way of keeping track not of rules, but of rule violations. Something like:\n",
    "    (a dict of format) page number Y: set(all pages that must before Y)\n",
    "\n",
    "- during the rule read-in, build the above dictionary\n",
    "- during the series read-in, for each series\n",
    "    - for each element y in the series\n",
    "        - check if any element in the set dict[y] appears in the slice of the list that comes after y\n",
    "    - if you reach the end without any error, add the middle number to your running sum"
   ]
  },
  {
   "cell_type": "code",
   "execution_count": 13,
   "metadata": {
    "dotnet_interactive": {
     "language": "csharp"
    },
    "polyglot_notebook": {
     "kernelName": "csharp"
    },
    "vscode": {
     "languageId": "polyglot-notebook"
    }
   },
   "outputs": [],
   "source": [
    "Dictionary<string, HashSet<string>> build_dict(List<string> rules){\n",
    "    // \n",
    "    Dictionary<string, HashSet<string>> dict = new Dictionary<string, HashSet<string>>();\n",
    "\n",
    "    for (string rule in rules){\n",
    "        // split rule on the '|' char\n",
    "        string[] spl = rule.Split('|');\n",
    "\n",
    "        // add to dict\n",
    "        if (spl[1] not in dict){\n",
    "            dict[spl[1]] = new HashSet<string>();\n",
    "        dict[spl[1]].Add(spl[0]);\n",
    "    }\n",
    "    return dict;\n",
    "}\n"
   ]
  },
  {
   "cell_type": "code",
   "execution_count": null,
   "metadata": {
    "dotnet_interactive": {
     "language": "csharp"
    },
    "polyglot_notebook": {
     "kernelName": "csharp"
    },
    "vscode": {
     "languageId": "polyglot-notebook"
    }
   },
   "outputs": [],
   "source": [
    "// Reads in input into a list\n",
    "// format: list[row][col]\n",
    "using System.IO;\n",
    "List<string> rules = new List<string>();\n",
    "\n",
    "// read in the rules to build the dict\n",
    "foreach (string line in File.ReadLines(\"day5-ex-input.txt\")){\n",
    "    // for each line, simply add to the wordSearch\n",
    "    if (line == \"\") break;\n",
    "    rules.Add(line);\n",
    "}\n",
    "Dictionary<string, HashSet<string>> dict = build_dict();\n",
    "\n"
   ]
  }
 ],
 "metadata": {
  "kernelspec": {
   "display_name": ".NET (C#)",
   "language": "C#",
   "name": ".net-csharp"
  },
  "language_info": {
   "name": "python"
  },
  "polyglot_notebook": {
   "kernelInfo": {
    "defaultKernelName": "csharp",
    "items": [
     {
      "aliases": [],
      "name": "csharp"
     }
    ]
   }
  }
 },
 "nbformat": 4,
 "nbformat_minor": 2
}
